{
 "cells": [
  {
   "cell_type": "code",
   "execution_count": null,
   "metadata": {
    "collapsed": true
   },
   "outputs": [],
   "source": [
    "import socket\n",
    "import datetime\n",
    "\n",
    "# 建立一个服务端\n",
    "server = socket.socket(socket.AF_INET, socket.SOCK_STREAM)\n",
    "# 以下设置解决ctrl+c退出后端口号占用问题\n",
    "server.setsockopt(socket.SOL_SOCKET, socket.SO_REUSEADDR, 1)\n",
    "\n",
    "print('hello, socket listen program!')\n",
    "\n",
    "server.bind(('0.0.0.0', 8266))  # 绑定要监听的地址（内网ip）和端口\n",
    "server.listen(5)  # 开始监听 表示可以使用五个链接排队\n",
    "while True:  # conn就是客户端链接过来而在服务端为期生成的一个链接实例\n",
    "    conn, address = server.accept()  # 等待链接,多个链接的时候就会出现问题,其实返回了两个值\n",
    "    print(conn, address)\n",
    "    try:\n",
    "        data = conn.recv(1024)  # 接收数据\n",
    "        if data:\n",
    "            print('Time:', datetime.datetime.now().strftime('%Y-%m-%d %H:%M:%S'))\n",
    "            print('receive:', data)  # 打印接收到的数据\n",
    "            # conn.send('hello!') #然后再发送数据\n",
    "    except ConnectionResetError as e:\n",
    "        print('关闭了正在占线的链接！')\n",
    "        break\n",
    "    # conn.close()\n",
    "\n"
   ]
  }
 ],
 "metadata": {
  "kernelspec": {
   "display_name": "Python 3",
   "language": "python",
   "name": "python3"
  },
  "language_info": {
   "codemirror_mode": {
    "name": "ipython",
    "version": 2
   },
   "file_extension": ".py",
   "mimetype": "text/x-python",
   "name": "python",
   "nbconvert_exporter": "python",
   "pygments_lexer": "ipython2",
   "version": "2.7.6"
  }
 },
 "nbformat": 4,
 "nbformat_minor": 0
}